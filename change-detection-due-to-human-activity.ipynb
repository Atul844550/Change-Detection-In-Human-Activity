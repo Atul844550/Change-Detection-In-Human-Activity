{
 "cells": [
  {
   "cell_type": "code",
   "execution_count": 1,
   "metadata": {
    "execution": {
     "iopub.execute_input": "2025-04-06T10:23:31.038238Z",
     "iopub.status.busy": "2025-04-06T10:23:31.038004Z",
     "iopub.status.idle": "2025-04-06T10:23:43.791856Z",
     "shell.execute_reply": "2025-04-06T10:23:43.791111Z",
     "shell.execute_reply.started": "2025-04-06T10:23:31.038208Z"
    },
    "trusted": true
   },
   "outputs": [],
   "source": [
    "import os\n",
    "import tensorflow as tf\n",
    "import numpy as np\n",
    "import matplotlib.pyplot as plt\n",
    "import seaborn as sns\n",
    "from tensorflow.keras.preprocessing.image import ImageDataGenerator\n",
    "from tensorflow.keras.applications import EfficientNetV2B3\n",
    "from tensorflow.keras import layers, models\n",
    "from sklearn.metrics import classification_report, confusion_matrix"
   ]
  },
  {
   "cell_type": "code",
   "execution_count": null,
   "metadata": {
    "execution": {
     "iopub.execute_input": "2025-04-06T10:23:43.793235Z",
     "iopub.status.busy": "2025-04-06T10:23:43.792730Z",
     "iopub.status.idle": "2025-04-06T10:23:43.797355Z",
     "shell.execute_reply": "2025-04-06T10:23:43.796273Z",
     "shell.execute_reply.started": "2025-04-06T10:23:43.793209Z"
    },
    "trusted": true
   },
   "outputs": [],
   "source": [
    "\n",
    "tf.random.set_seed(42)\n",
    "np.random.seed(42)"
   ]
  },
  {
   "cell_type": "code",
   "execution_count": null,
   "metadata": {
    "execution": {
     "iopub.execute_input": "2025-04-06T10:23:43.798809Z",
     "iopub.status.busy": "2025-04-06T10:23:43.798418Z",
     "iopub.status.idle": "2025-04-06T10:23:43.831548Z",
     "shell.execute_reply": "2025-04-06T10:23:43.830784Z",
     "shell.execute_reply.started": "2025-04-06T10:23:43.798764Z"
    },
    "trusted": true
   },
   "outputs": [
    {
     "name": "stdout",
     "output_type": "stream",
     "text": [
      "train directory :  /kaggle/input/activity-recognition-dataset/train\n",
      "test directory :  /kaggle/input/activity-recognition-dataset/test\n"
     ]
    }
   ],
   "source": [
    "\n",
    "dataset_path = \"/kaggle/input/activity-recognition-dataset\"\n",
    "train_dir = os.path.join(dataset_path, \"train\")\n",
    "test_dir = os.path.join(dataset_path, \"test\")\n",
    "\n",
    "print(\"train directory : \", train_dir)\n",
    "print(\"test directory : \", test_dir)"
   ]
  },
  {
   "cell_type": "code",
   "execution_count": null,
   "metadata": {
    "execution": {
     "iopub.execute_input": "2025-04-06T10:23:43.832833Z",
     "iopub.status.busy": "2025-04-06T10:23:43.832457Z",
     "iopub.status.idle": "2025-04-06T10:24:16.828057Z",
     "shell.execute_reply": "2025-04-06T10:24:16.827338Z",
     "shell.execute_reply.started": "2025-04-06T10:23:43.832799Z"
    },
    "trusted": true
   },
   "outputs": [
    {
     "name": "stdout",
     "output_type": "stream",
     "text": [
      "Found 10710 images belonging to 15 classes.\n",
      "Found 1890 images belonging to 15 classes.\n",
      "15\n"
     ]
    }
   ],
   "source": [
    "\n",
    "img_size = (224, 224)\n",
    "batch_size = 64  \n",
    "\n",
    "train_datagen = ImageDataGenerator(\n",
    "    rescale=1.0 / 255.0,\n",
    "    rotation_range=30,\n",
    "    width_shift_range=0.3,\n",
    "    height_shift_range=0.3,\n",
    "    shear_range=0.3,\n",
    "    zoom_range=0.3,\n",
    "    brightness_range=[0.8, 1.2],  \n",
    "    channel_shift_range=0.2, \n",
    "    horizontal_flip=True,\n",
    "    fill_mode=\"nearest\"\n",
    ")\n",
    "\n",
    "test_datagen = ImageDataGenerator(rescale=1.0 / 255.0)\n",
    "\n",
    "train_generator = train_datagen.flow_from_directory(\n",
    "    train_dir,\n",
    "    target_size=img_size,\n",
    "    batch_size=batch_size,\n",
    "    class_mode=\"categorical\"\n",
    ")\n",
    "\n",
    "test_generator = test_datagen.flow_from_directory(\n",
    "    test_dir,\n",
    "    target_size=img_size,\n",
    "    batch_size=batch_size,\n",
    "    class_mode=\"categorical\",\n",
    "    shuffle=False\n",
    ")\n",
    "\n",
    "num_classes = len(train_generator.class_indices)\n",
    "\n",
    "print(num_classes)"
   ]
  },
  {
   "cell_type": "code",
   "execution_count": null,
   "metadata": {
    "execution": {
     "iopub.execute_input": "2025-04-06T10:24:16.829082Z",
     "iopub.status.busy": "2025-04-06T10:24:16.828812Z",
     "iopub.status.idle": "2025-04-06T10:24:21.371512Z",
     "shell.execute_reply": "2025-04-06T10:24:21.370613Z",
     "shell.execute_reply.started": "2025-04-06T10:24:16.829060Z"
    },
    "trusted": true
   },
   "outputs": [
    {
     "name": "stdout",
     "output_type": "stream",
     "text": [
      "Downloading data from https://storage.googleapis.com/tensorflow/keras-applications/efficientnet_v2/efficientnetv2-b3_notop.h5\n",
      "\u001b[1m52606240/52606240\u001b[0m \u001b[32m━━━━━━━━━━━━━━━━━━━━\u001b[0m\u001b[37m\u001b[0m \u001b[1m0s\u001b[0m 0us/step\n"
     ]
    }
   ],
   "source": [
    "\n",
    "base_model = EfficientNetV2B3(weights=\"imagenet\", include_top=False, input_shape=(224, 224, 3))\n"
   ]
  },
  {
   "cell_type": "code",
   "execution_count": null,
   "metadata": {
    "execution": {
     "iopub.execute_input": "2025-04-06T10:24:21.374394Z",
     "iopub.status.busy": "2025-04-06T10:24:21.374141Z",
     "iopub.status.idle": "2025-04-06T10:24:21.378393Z",
     "shell.execute_reply": "2025-04-06T10:24:21.377530Z",
     "shell.execute_reply.started": "2025-04-06T10:24:21.374373Z"
    },
    "trusted": true
   },
   "outputs": [],
   "source": [
    "\n",
    "for layer in base_model.layers[-50:]:  # Unfreeze last 50 layers\n",
    "    layer.trainable = True"
   ]
  },
  {
   "cell_type": "code",
   "execution_count": null,
   "metadata": {
    "execution": {
     "iopub.execute_input": "2025-04-06T10:24:21.380074Z",
     "iopub.status.busy": "2025-04-06T10:24:21.379823Z",
     "iopub.status.idle": "2025-04-06T10:24:21.409093Z",
     "shell.execute_reply": "2025-04-06T10:24:21.408241Z",
     "shell.execute_reply.started": "2025-04-06T10:24:21.380044Z"
    },
    "trusted": true
   },
   "outputs": [],
   "source": [
    "\n",
    "for layer in base_model.layers:\n",
    "    if isinstance(layer, layers.BatchNormalization):\n",
    "        layer.trainable = True  # ✅ This should NOT be frozen"
   ]
  },
  {
   "cell_type": "code",
   "execution_count": null,
   "metadata": {
    "execution": {
     "iopub.execute_input": "2025-04-06T10:24:21.410046Z",
     "iopub.status.busy": "2025-04-06T10:24:21.409850Z",
     "iopub.status.idle": "2025-04-06T10:24:21.465896Z",
     "shell.execute_reply": "2025-04-06T10:24:21.465293Z",
     "shell.execute_reply.started": "2025-04-06T10:24:21.410029Z"
    },
    "trusted": true
   },
   "outputs": [],
   "source": [
    "\n",
    "model = models.Sequential([\n",
    "    base_model,\n",
    "    layers.GlobalAveragePooling2D(),\n",
    "    layers.Dense(1024, activation=\"relu\"), \n",
    "    layers.BatchNormalization(),\n",
    "    layers.Dropout(0.4),\n",
    "    layers.Dense(num_classes, activation=\"softmax\")\n",
    "])"
   ]
  },
  {
   "cell_type": "code",
   "execution_count": null,
   "metadata": {
    "execution": {
     "iopub.execute_input": "2025-04-06T10:24:21.466757Z",
     "iopub.status.busy": "2025-04-06T10:24:21.466510Z",
     "iopub.status.idle": "2025-04-06T10:24:21.500287Z",
     "shell.execute_reply": "2025-04-06T10:24:21.499717Z",
     "shell.execute_reply.started": "2025-04-06T10:24:21.466737Z"
    },
    "trusted": true
   },
   "outputs": [
    {
     "data": {
      "text/html": [
       "<pre style=\"white-space:pre;overflow-x:auto;line-height:normal;font-family:Menlo,'DejaVu Sans Mono',consolas,'Courier New',monospace\"><span style=\"font-weight: bold\">Model: \"sequential\"</span>\n",
       "</pre>\n"
      ],
      "text/plain": [
       "\u001b[1mModel: \"sequential\"\u001b[0m\n"
      ]
     },
     "metadata": {},
     "output_type": "display_data"
    },
    {
     "data": {
      "text/html": [
       "<pre style=\"white-space:pre;overflow-x:auto;line-height:normal;font-family:Menlo,'DejaVu Sans Mono',consolas,'Courier New',monospace\">┏━━━━━━━━━━━━━━━━━━━━━━━━━━━━━━━━━━━━━━┳━━━━━━━━━━━━━━━━━━━━━━━━━━━━━┳━━━━━━━━━━━━━━━━━┓\n",
       "┃<span style=\"font-weight: bold\"> Layer (type)                         </span>┃<span style=\"font-weight: bold\"> Output Shape                </span>┃<span style=\"font-weight: bold\">         Param # </span>┃\n",
       "┡━━━━━━━━━━━━━━━━━━━━━━━━━━━━━━━━━━━━━━╇━━━━━━━━━━━━━━━━━━━━━━━━━━━━━╇━━━━━━━━━━━━━━━━━┩\n",
       "│ efficientnetv2-b3 (<span style=\"color: #0087ff; text-decoration-color: #0087ff\">Functional</span>)       │ (<span style=\"color: #00d7ff; text-decoration-color: #00d7ff\">None</span>, <span style=\"color: #00af00; text-decoration-color: #00af00\">7</span>, <span style=\"color: #00af00; text-decoration-color: #00af00\">7</span>, <span style=\"color: #00af00; text-decoration-color: #00af00\">1536</span>)          │      <span style=\"color: #00af00; text-decoration-color: #00af00\">12,930,622</span> │\n",
       "├──────────────────────────────────────┼─────────────────────────────┼─────────────────┤\n",
       "│ global_average_pooling2d             │ (<span style=\"color: #00d7ff; text-decoration-color: #00d7ff\">None</span>, <span style=\"color: #00af00; text-decoration-color: #00af00\">1536</span>)                │               <span style=\"color: #00af00; text-decoration-color: #00af00\">0</span> │\n",
       "│ (<span style=\"color: #0087ff; text-decoration-color: #0087ff\">GlobalAveragePooling2D</span>)             │                             │                 │\n",
       "├──────────────────────────────────────┼─────────────────────────────┼─────────────────┤\n",
       "│ dense (<span style=\"color: #0087ff; text-decoration-color: #0087ff\">Dense</span>)                        │ (<span style=\"color: #00d7ff; text-decoration-color: #00d7ff\">None</span>, <span style=\"color: #00af00; text-decoration-color: #00af00\">1024</span>)                │       <span style=\"color: #00af00; text-decoration-color: #00af00\">1,573,888</span> │\n",
       "├──────────────────────────────────────┼─────────────────────────────┼─────────────────┤\n",
       "│ batch_normalization                  │ (<span style=\"color: #00d7ff; text-decoration-color: #00d7ff\">None</span>, <span style=\"color: #00af00; text-decoration-color: #00af00\">1024</span>)                │           <span style=\"color: #00af00; text-decoration-color: #00af00\">4,096</span> │\n",
       "│ (<span style=\"color: #0087ff; text-decoration-color: #0087ff\">BatchNormalization</span>)                 │                             │                 │\n",
       "├──────────────────────────────────────┼─────────────────────────────┼─────────────────┤\n",
       "│ dropout (<span style=\"color: #0087ff; text-decoration-color: #0087ff\">Dropout</span>)                    │ (<span style=\"color: #00d7ff; text-decoration-color: #00d7ff\">None</span>, <span style=\"color: #00af00; text-decoration-color: #00af00\">1024</span>)                │               <span style=\"color: #00af00; text-decoration-color: #00af00\">0</span> │\n",
       "├──────────────────────────────────────┼─────────────────────────────┼─────────────────┤\n",
       "│ dense_1 (<span style=\"color: #0087ff; text-decoration-color: #0087ff\">Dense</span>)                      │ (<span style=\"color: #00d7ff; text-decoration-color: #00d7ff\">None</span>, <span style=\"color: #00af00; text-decoration-color: #00af00\">15</span>)                  │          <span style=\"color: #00af00; text-decoration-color: #00af00\">15,375</span> │\n",
       "└──────────────────────────────────────┴─────────────────────────────┴─────────────────┘\n",
       "</pre>\n"
      ],
      "text/plain": [
       "┏━━━━━━━━━━━━━━━━━━━━━━━━━━━━━━━━━━━━━━┳━━━━━━━━━━━━━━━━━━━━━━━━━━━━━┳━━━━━━━━━━━━━━━━━┓\n",
       "┃\u001b[1m \u001b[0m\u001b[1mLayer (type)                        \u001b[0m\u001b[1m \u001b[0m┃\u001b[1m \u001b[0m\u001b[1mOutput Shape               \u001b[0m\u001b[1m \u001b[0m┃\u001b[1m \u001b[0m\u001b[1m        Param #\u001b[0m\u001b[1m \u001b[0m┃\n",
       "┡━━━━━━━━━━━━━━━━━━━━━━━━━━━━━━━━━━━━━━╇━━━━━━━━━━━━━━━━━━━━━━━━━━━━━╇━━━━━━━━━━━━━━━━━┩\n",
       "│ efficientnetv2-b3 (\u001b[38;5;33mFunctional\u001b[0m)       │ (\u001b[38;5;45mNone\u001b[0m, \u001b[38;5;34m7\u001b[0m, \u001b[38;5;34m7\u001b[0m, \u001b[38;5;34m1536\u001b[0m)          │      \u001b[38;5;34m12,930,622\u001b[0m │\n",
       "├──────────────────────────────────────┼─────────────────────────────┼─────────────────┤\n",
       "│ global_average_pooling2d             │ (\u001b[38;5;45mNone\u001b[0m, \u001b[38;5;34m1536\u001b[0m)                │               \u001b[38;5;34m0\u001b[0m │\n",
       "│ (\u001b[38;5;33mGlobalAveragePooling2D\u001b[0m)             │                             │                 │\n",
       "├──────────────────────────────────────┼─────────────────────────────┼─────────────────┤\n",
       "│ dense (\u001b[38;5;33mDense\u001b[0m)                        │ (\u001b[38;5;45mNone\u001b[0m, \u001b[38;5;34m1024\u001b[0m)                │       \u001b[38;5;34m1,573,888\u001b[0m │\n",
       "├──────────────────────────────────────┼─────────────────────────────┼─────────────────┤\n",
       "│ batch_normalization                  │ (\u001b[38;5;45mNone\u001b[0m, \u001b[38;5;34m1024\u001b[0m)                │           \u001b[38;5;34m4,096\u001b[0m │\n",
       "│ (\u001b[38;5;33mBatchNormalization\u001b[0m)                 │                             │                 │\n",
       "├──────────────────────────────────────┼─────────────────────────────┼─────────────────┤\n",
       "│ dropout (\u001b[38;5;33mDropout\u001b[0m)                    │ (\u001b[38;5;45mNone\u001b[0m, \u001b[38;5;34m1024\u001b[0m)                │               \u001b[38;5;34m0\u001b[0m │\n",
       "├──────────────────────────────────────┼─────────────────────────────┼─────────────────┤\n",
       "│ dense_1 (\u001b[38;5;33mDense\u001b[0m)                      │ (\u001b[38;5;45mNone\u001b[0m, \u001b[38;5;34m15\u001b[0m)                  │          \u001b[38;5;34m15,375\u001b[0m │\n",
       "└──────────────────────────────────────┴─────────────────────────────┴─────────────────┘\n"
      ]
     },
     "metadata": {},
     "output_type": "display_data"
    },
    {
     "data": {
      "text/html": [
       "<pre style=\"white-space:pre;overflow-x:auto;line-height:normal;font-family:Menlo,'DejaVu Sans Mono',consolas,'Courier New',monospace\"><span style=\"font-weight: bold\"> Total params: </span><span style=\"color: #00af00; text-decoration-color: #00af00\">14,523,981</span> (55.40 MB)\n",
       "</pre>\n"
      ],
      "text/plain": [
       "\u001b[1m Total params: \u001b[0m\u001b[38;5;34m14,523,981\u001b[0m (55.40 MB)\n"
      ]
     },
     "metadata": {},
     "output_type": "display_data"
    },
    {
     "data": {
      "text/html": [
       "<pre style=\"white-space:pre;overflow-x:auto;line-height:normal;font-family:Menlo,'DejaVu Sans Mono',consolas,'Courier New',monospace\"><span style=\"font-weight: bold\"> Trainable params: </span><span style=\"color: #00af00; text-decoration-color: #00af00\">14,412,717</span> (54.98 MB)\n",
       "</pre>\n"
      ],
      "text/plain": [
       "\u001b[1m Trainable params: \u001b[0m\u001b[38;5;34m14,412,717\u001b[0m (54.98 MB)\n"
      ]
     },
     "metadata": {},
     "output_type": "display_data"
    },
    {
     "data": {
      "text/html": [
       "<pre style=\"white-space:pre;overflow-x:auto;line-height:normal;font-family:Menlo,'DejaVu Sans Mono',consolas,'Courier New',monospace\"><span style=\"font-weight: bold\"> Non-trainable params: </span><span style=\"color: #00af00; text-decoration-color: #00af00\">111,264</span> (434.62 KB)\n",
       "</pre>\n"
      ],
      "text/plain": [
       "\u001b[1m Non-trainable params: \u001b[0m\u001b[38;5;34m111,264\u001b[0m (434.62 KB)\n"
      ]
     },
     "metadata": {},
     "output_type": "display_data"
    }
   ],
   "source": [
    "\n",
    "model.compile(optimizer=tf.keras.optimizers.Adam(learning_rate=1e-4),  # Faster Convergence\n",
    "              loss=\"categorical_crossentropy\",\n",
    "              metrics=[\"accuracy\"])\n",
    "\n",
    "model.summary()"
   ]
  },
  {
   "cell_type": "code",
   "execution_count": null,
   "metadata": {
    "execution": {
     "iopub.execute_input": "2025-04-06T10:24:21.501110Z",
     "iopub.status.busy": "2025-04-06T10:24:21.500927Z",
     "iopub.status.idle": "2025-04-06T10:24:21.504885Z",
     "shell.execute_reply": "2025-04-06T10:24:21.504032Z",
     "shell.execute_reply.started": "2025-04-06T10:24:21.501094Z"
    },
    "trusted": true
   },
   "outputs": [],
   "source": [
    "# 4. Callbacks: Reduce LR + Early Stopping\n",
    "callbacks = [\n",
    "    tf.keras.callbacks.ReduceLROnPlateau(monitor=\"val_loss\", patience=3, factor=0.5, min_lr=1e-6),\n",
    "    tf.keras.callbacks.EarlyStopping(monitor=\"val_loss\", patience=10, restore_best_weights=True)\n",
    "]"
   ]
  },
  {
   "cell_type": "code",
   "execution_count": 11,
   "metadata": {
    "execution": {
     "iopub.execute_input": "2025-04-06T10:24:21.506070Z",
     "iopub.status.busy": "2025-04-06T10:24:21.505849Z",
     "iopub.status.idle": "2025-04-06T12:40:19.487933Z",
     "shell.execute_reply": "2025-04-06T12:40:19.486975Z",
     "shell.execute_reply.started": "2025-04-06T10:24:21.506052Z"
    },
    "trusted": true
   },
   "outputs": [
    {
     "name": "stdout",
     "output_type": "stream",
     "text": [
      "Epoch 1/100\n"
     ]
    },
    {
     "name": "stderr",
     "output_type": "stream",
     "text": [
      "/usr/local/lib/python3.10/dist-packages/keras/src/trainers/data_adapters/py_dataset_adapter.py:122: UserWarning: Your `PyDataset` class should call `super().__init__(**kwargs)` in its constructor. `**kwargs` can include `workers`, `use_multiprocessing`, `max_queue_size`. Do not pass these arguments to `fit()`, as they will be ignored.\n",
      "  self._warn_if_super_not_called()\n"
     ]
    },
    {
     "name": "stdout",
     "output_type": "stream",
     "text": [
      "\u001b[1m168/168\u001b[0m \u001b[32m━━━━━━━━━━━━━━━━━━━━\u001b[0m\u001b[37m\u001b[0m \u001b[1m407s\u001b[0m 2s/step - accuracy: 0.1391 - loss: 3.3944 - val_accuracy: 0.3915 - val_loss: 2.0668 - learning_rate: 1.0000e-04\n",
      "Epoch 2/100\n",
      "\u001b[1m168/168\u001b[0m \u001b[32m━━━━━━━━━━━━━━━━━━━━\u001b[0m\u001b[37m\u001b[0m \u001b[1m156s\u001b[0m 888ms/step - accuracy: 0.3108 - loss: 2.4769 - val_accuracy: 0.5233 - val_loss: 1.5214 - learning_rate: 1.0000e-04\n",
      "Epoch 3/100\n",
      "\u001b[1m168/168\u001b[0m \u001b[32m━━━━━━━━━━━━━━━━━━━━\u001b[0m\u001b[37m\u001b[0m \u001b[1m155s\u001b[0m 888ms/step - accuracy: 0.4138 - loss: 2.0311 - val_accuracy: 0.4074 - val_loss: 1.9794 - learning_rate: 1.0000e-04\n",
      "Epoch 4/100\n",
      "\u001b[1m168/168\u001b[0m \u001b[32m━━━━━━━━━━━━━━━━━━━━\u001b[0m\u001b[37m\u001b[0m \u001b[1m156s\u001b[0m 889ms/step - accuracy: 0.4711 - loss: 1.7431 - val_accuracy: 0.6106 - val_loss: 1.2444 - learning_rate: 1.0000e-04\n",
      "Epoch 5/100\n",
      "\u001b[1m168/168\u001b[0m \u001b[32m━━━━━━━━━━━━━━━━━━━━\u001b[0m\u001b[37m\u001b[0m \u001b[1m159s\u001b[0m 906ms/step - accuracy: 0.5455 - loss: 1.4885 - val_accuracy: 0.6302 - val_loss: 1.2146 - learning_rate: 1.0000e-04\n",
      "Epoch 6/100\n",
      "\u001b[1m168/168\u001b[0m \u001b[32m━━━━━━━━━━━━━━━━━━━━\u001b[0m\u001b[37m\u001b[0m \u001b[1m157s\u001b[0m 895ms/step - accuracy: 0.5734 - loss: 1.3667 - val_accuracy: 0.5116 - val_loss: 1.5689 - learning_rate: 1.0000e-04\n",
      "Epoch 7/100\n",
      "\u001b[1m168/168\u001b[0m \u001b[32m━━━━━━━━━━━━━━━━━━━━\u001b[0m\u001b[37m\u001b[0m \u001b[1m156s\u001b[0m 890ms/step - accuracy: 0.6144 - loss: 1.2156 - val_accuracy: 0.4825 - val_loss: 1.8388 - learning_rate: 1.0000e-04\n",
      "Epoch 8/100\n",
      "\u001b[1m168/168\u001b[0m \u001b[32m━━━━━━━━━━━━━━━━━━━━\u001b[0m\u001b[37m\u001b[0m \u001b[1m155s\u001b[0m 888ms/step - accuracy: 0.6537 - loss: 1.1030 - val_accuracy: 0.6407 - val_loss: 1.1570 - learning_rate: 1.0000e-04\n",
      "Epoch 9/100\n",
      "\u001b[1m168/168\u001b[0m \u001b[32m━━━━━━━━━━━━━━━━━━━━\u001b[0m\u001b[37m\u001b[0m \u001b[1m155s\u001b[0m 887ms/step - accuracy: 0.6865 - loss: 0.9910 - val_accuracy: 0.4847 - val_loss: 1.6515 - learning_rate: 1.0000e-04\n",
      "Epoch 10/100\n",
      "\u001b[1m168/168\u001b[0m \u001b[32m━━━━━━━━━━━━━━━━━━━━\u001b[0m\u001b[37m\u001b[0m \u001b[1m155s\u001b[0m 888ms/step - accuracy: 0.7016 - loss: 0.9439 - val_accuracy: 0.5503 - val_loss: 1.6536 - learning_rate: 1.0000e-04\n",
      "Epoch 11/100\n",
      "\u001b[1m168/168\u001b[0m \u001b[32m━━━━━━━━━━━━━━━━━━━━\u001b[0m\u001b[37m\u001b[0m \u001b[1m155s\u001b[0m 881ms/step - accuracy: 0.7215 - loss: 0.8813 - val_accuracy: 0.4884 - val_loss: 1.8229 - learning_rate: 1.0000e-04\n",
      "Epoch 12/100\n",
      "\u001b[1m168/168\u001b[0m \u001b[32m━━━━━━━━━━━━━━━━━━━━\u001b[0m\u001b[37m\u001b[0m \u001b[1m155s\u001b[0m 885ms/step - accuracy: 0.7518 - loss: 0.7928 - val_accuracy: 0.6804 - val_loss: 1.0335 - learning_rate: 5.0000e-05\n",
      "Epoch 13/100\n",
      "\u001b[1m168/168\u001b[0m \u001b[32m━━━━━━━━━━━━━━━━━━━━\u001b[0m\u001b[37m\u001b[0m \u001b[1m157s\u001b[0m 898ms/step - accuracy: 0.7530 - loss: 0.7525 - val_accuracy: 0.7556 - val_loss: 0.8504 - learning_rate: 5.0000e-05\n",
      "Epoch 14/100\n",
      "\u001b[1m168/168\u001b[0m \u001b[32m━━━━━━━━━━━━━━━━━━━━\u001b[0m\u001b[37m\u001b[0m \u001b[1m155s\u001b[0m 882ms/step - accuracy: 0.7667 - loss: 0.7140 - val_accuracy: 0.6032 - val_loss: 1.4189 - learning_rate: 5.0000e-05\n",
      "Epoch 15/100\n",
      "\u001b[1m168/168\u001b[0m \u001b[32m━━━━━━━━━━━━━━━━━━━━\u001b[0m\u001b[37m\u001b[0m \u001b[1m155s\u001b[0m 883ms/step - accuracy: 0.7758 - loss: 0.6965 - val_accuracy: 0.7185 - val_loss: 0.9730 - learning_rate: 5.0000e-05\n",
      "Epoch 16/100\n",
      "\u001b[1m168/168\u001b[0m \u001b[32m━━━━━━━━━━━━━━━━━━━━\u001b[0m\u001b[37m\u001b[0m \u001b[1m154s\u001b[0m 883ms/step - accuracy: 0.7867 - loss: 0.6721 - val_accuracy: 0.7429 - val_loss: 0.8566 - learning_rate: 5.0000e-05\n",
      "Epoch 17/100\n",
      "\u001b[1m168/168\u001b[0m \u001b[32m━━━━━━━━━━━━━━━━━━━━\u001b[0m\u001b[37m\u001b[0m \u001b[1m158s\u001b[0m 901ms/step - accuracy: 0.7923 - loss: 0.6475 - val_accuracy: 0.7640 - val_loss: 0.8732 - learning_rate: 2.5000e-05\n",
      "Epoch 18/100\n",
      "\u001b[1m168/168\u001b[0m \u001b[32m━━━━━━━━━━━━━━━━━━━━\u001b[0m\u001b[37m\u001b[0m \u001b[1m156s\u001b[0m 892ms/step - accuracy: 0.7932 - loss: 0.6336 - val_accuracy: 0.7815 - val_loss: 0.7540 - learning_rate: 2.5000e-05\n",
      "Epoch 19/100\n",
      "\u001b[1m168/168\u001b[0m \u001b[32m━━━━━━━━━━━━━━━━━━━━\u001b[0m\u001b[37m\u001b[0m \u001b[1m156s\u001b[0m 887ms/step - accuracy: 0.8118 - loss: 0.5833 - val_accuracy: 0.7090 - val_loss: 1.0584 - learning_rate: 2.5000e-05\n",
      "Epoch 20/100\n",
      "\u001b[1m168/168\u001b[0m \u001b[32m━━━━━━━━━━━━━━━━━━━━\u001b[0m\u001b[37m\u001b[0m \u001b[1m155s\u001b[0m 884ms/step - accuracy: 0.8169 - loss: 0.5764 - val_accuracy: 0.7794 - val_loss: 0.7828 - learning_rate: 2.5000e-05\n",
      "Epoch 21/100\n",
      "\u001b[1m168/168\u001b[0m \u001b[32m━━━━━━━━━━━━━━━━━━━━\u001b[0m\u001b[37m\u001b[0m \u001b[1m155s\u001b[0m 887ms/step - accuracy: 0.8214 - loss: 0.5600 - val_accuracy: 0.7497 - val_loss: 0.8448 - learning_rate: 2.5000e-05\n",
      "Epoch 22/100\n",
      "\u001b[1m168/168\u001b[0m \u001b[32m━━━━━━━━━━━━━━━━━━━━\u001b[0m\u001b[37m\u001b[0m \u001b[1m156s\u001b[0m 889ms/step - accuracy: 0.8183 - loss: 0.5527 - val_accuracy: 0.7646 - val_loss: 0.8110 - learning_rate: 1.2500e-05\n",
      "Epoch 23/100\n",
      "\u001b[1m168/168\u001b[0m \u001b[32m━━━━━━━━━━━━━━━━━━━━\u001b[0m\u001b[37m\u001b[0m \u001b[1m155s\u001b[0m 885ms/step - accuracy: 0.8289 - loss: 0.5246 - val_accuracy: 0.7370 - val_loss: 0.9393 - learning_rate: 1.2500e-05\n",
      "Epoch 24/100\n",
      "\u001b[1m168/168\u001b[0m \u001b[32m━━━━━━━━━━━━━━━━━━━━\u001b[0m\u001b[37m\u001b[0m \u001b[1m159s\u001b[0m 906ms/step - accuracy: 0.8240 - loss: 0.5476 - val_accuracy: 0.7931 - val_loss: 0.7391 - learning_rate: 1.2500e-05\n",
      "Epoch 25/100\n",
      "\u001b[1m168/168\u001b[0m \u001b[32m━━━━━━━━━━━━━━━━━━━━\u001b[0m\u001b[37m\u001b[0m \u001b[1m174s\u001b[0m 994ms/step - accuracy: 0.8232 - loss: 0.5408 - val_accuracy: 0.8000 - val_loss: 0.7052 - learning_rate: 1.2500e-05\n",
      "Epoch 26/100\n",
      "\u001b[1m168/168\u001b[0m \u001b[32m━━━━━━━━━━━━━━━━━━━━\u001b[0m\u001b[37m\u001b[0m \u001b[1m167s\u001b[0m 953ms/step - accuracy: 0.8344 - loss: 0.5013 - val_accuracy: 0.7878 - val_loss: 0.7413 - learning_rate: 1.2500e-05\n",
      "Epoch 27/100\n",
      "\u001b[1m168/168\u001b[0m \u001b[32m━━━━━━━━━━━━━━━━━━━━\u001b[0m\u001b[37m\u001b[0m \u001b[1m159s\u001b[0m 910ms/step - accuracy: 0.8428 - loss: 0.4858 - val_accuracy: 0.7963 - val_loss: 0.7280 - learning_rate: 1.2500e-05\n",
      "Epoch 28/100\n",
      "\u001b[1m168/168\u001b[0m \u001b[32m━━━━━━━━━━━━━━━━━━━━\u001b[0m\u001b[37m\u001b[0m \u001b[1m161s\u001b[0m 921ms/step - accuracy: 0.8298 - loss: 0.5234 - val_accuracy: 0.7937 - val_loss: 0.7269 - learning_rate: 1.2500e-05\n",
      "Epoch 29/100\n",
      "\u001b[1m168/168\u001b[0m \u001b[32m━━━━━━━━━━━━━━━━━━━━\u001b[0m\u001b[37m\u001b[0m \u001b[1m160s\u001b[0m 915ms/step - accuracy: 0.8491 - loss: 0.4656 - val_accuracy: 0.7952 - val_loss: 0.7239 - learning_rate: 6.2500e-06\n",
      "Epoch 30/100\n",
      "\u001b[1m168/168\u001b[0m \u001b[32m━━━━━━━━━━━━━━━━━━━━\u001b[0m\u001b[37m\u001b[0m \u001b[1m162s\u001b[0m 927ms/step - accuracy: 0.8378 - loss: 0.4960 - val_accuracy: 0.8032 - val_loss: 0.7016 - learning_rate: 6.2500e-06\n",
      "Epoch 31/100\n",
      "\u001b[1m168/168\u001b[0m \u001b[32m━━━━━━━━━━━━━━━━━━━━\u001b[0m\u001b[37m\u001b[0m \u001b[1m168s\u001b[0m 960ms/step - accuracy: 0.8452 - loss: 0.4703 - val_accuracy: 0.7899 - val_loss: 0.7572 - learning_rate: 6.2500e-06\n",
      "Epoch 32/100\n",
      "\u001b[1m168/168\u001b[0m \u001b[32m━━━━━━━━━━━━━━━━━━━━\u001b[0m\u001b[37m\u001b[0m \u001b[1m171s\u001b[0m 981ms/step - accuracy: 0.8437 - loss: 0.4666 - val_accuracy: 0.7963 - val_loss: 0.7091 - learning_rate: 6.2500e-06\n",
      "Epoch 33/100\n",
      "\u001b[1m168/168\u001b[0m \u001b[32m━━━━━━━━━━━━━━━━━━━━\u001b[0m\u001b[37m\u001b[0m \u001b[1m175s\u001b[0m 996ms/step - accuracy: 0.8448 - loss: 0.4773 - val_accuracy: 0.7989 - val_loss: 0.7172 - learning_rate: 6.2500e-06\n",
      "Epoch 34/100\n",
      "\u001b[1m168/168\u001b[0m \u001b[32m━━━━━━━━━━━━━━━━━━━━\u001b[0m\u001b[37m\u001b[0m \u001b[1m179s\u001b[0m 1s/step - accuracy: 0.8560 - loss: 0.4386 - val_accuracy: 0.8032 - val_loss: 0.7037 - learning_rate: 3.1250e-06\n",
      "Epoch 35/100\n",
      "\u001b[1m168/168\u001b[0m \u001b[32m━━━━━━━━━━━━━━━━━━━━\u001b[0m\u001b[37m\u001b[0m \u001b[1m173s\u001b[0m 994ms/step - accuracy: 0.8495 - loss: 0.4495 - val_accuracy: 0.8037 - val_loss: 0.7106 - learning_rate: 3.1250e-06\n",
      "Epoch 36/100\n",
      "\u001b[1m168/168\u001b[0m \u001b[32m━━━━━━━━━━━━━━━━━━━━\u001b[0m\u001b[37m\u001b[0m \u001b[1m173s\u001b[0m 989ms/step - accuracy: 0.8510 - loss: 0.4502 - val_accuracy: 0.8026 - val_loss: 0.7053 - learning_rate: 3.1250e-06\n",
      "Epoch 37/100\n",
      "\u001b[1m168/168\u001b[0m \u001b[32m━━━━━━━━━━━━━━━━━━━━\u001b[0m\u001b[37m\u001b[0m \u001b[1m176s\u001b[0m 1s/step - accuracy: 0.8509 - loss: 0.4519 - val_accuracy: 0.8032 - val_loss: 0.7023 - learning_rate: 1.5625e-06\n",
      "Epoch 38/100\n",
      "\u001b[1m168/168\u001b[0m \u001b[32m━━━━━━━━━━━━━━━━━━━━\u001b[0m\u001b[37m\u001b[0m \u001b[1m177s\u001b[0m 1s/step - accuracy: 0.8519 - loss: 0.4557 - val_accuracy: 0.8037 - val_loss: 0.6993 - learning_rate: 1.5625e-06\n",
      "Epoch 39/100\n",
      "\u001b[1m168/168\u001b[0m \u001b[32m━━━━━━━━━━━━━━━━━━━━\u001b[0m\u001b[37m\u001b[0m \u001b[1m175s\u001b[0m 998ms/step - accuracy: 0.8515 - loss: 0.4615 - val_accuracy: 0.8048 - val_loss: 0.6997 - learning_rate: 1.5625e-06\n",
      "Epoch 40/100\n",
      "\u001b[1m168/168\u001b[0m \u001b[32m━━━━━━━━━━━━━━━━━━━━\u001b[0m\u001b[37m\u001b[0m \u001b[1m177s\u001b[0m 1s/step - accuracy: 0.8567 - loss: 0.4415 - val_accuracy: 0.8053 - val_loss: 0.7042 - learning_rate: 1.5625e-06\n",
      "Epoch 41/100\n",
      "\u001b[1m168/168\u001b[0m \u001b[32m━━━━━━━━━━━━━━━━━━━━\u001b[0m\u001b[37m\u001b[0m \u001b[1m174s\u001b[0m 993ms/step - accuracy: 0.8483 - loss: 0.4553 - val_accuracy: 0.8053 - val_loss: 0.7024 - learning_rate: 1.5625e-06\n",
      "Epoch 42/100\n",
      "\u001b[1m168/168\u001b[0m \u001b[32m━━━━━━━━━━━━━━━━━━━━\u001b[0m\u001b[37m\u001b[0m \u001b[1m203s\u001b[0m 1s/step - accuracy: 0.8555 - loss: 0.4484 - val_accuracy: 0.8063 - val_loss: 0.7060 - learning_rate: 1.0000e-06\n",
      "Epoch 43/100\n",
      "\u001b[1m168/168\u001b[0m \u001b[32m━━━━━━━━━━━━━━━━━━━━\u001b[0m\u001b[37m\u001b[0m \u001b[1m180s\u001b[0m 1s/step - accuracy: 0.8497 - loss: 0.4671 - val_accuracy: 0.8048 - val_loss: 0.7039 - learning_rate: 1.0000e-06\n",
      "Epoch 44/100\n",
      "\u001b[1m168/168\u001b[0m \u001b[32m━━━━━━━━━━━━━━━━━━━━\u001b[0m\u001b[37m\u001b[0m \u001b[1m175s\u001b[0m 1s/step - accuracy: 0.8579 - loss: 0.4413 - val_accuracy: 0.8016 - val_loss: 0.7052 - learning_rate: 1.0000e-06\n",
      "Epoch 45/100\n",
      "\u001b[1m168/168\u001b[0m \u001b[32m━━━━━━━━━━━━━━━━━━━━\u001b[0m\u001b[37m\u001b[0m \u001b[1m175s\u001b[0m 998ms/step - accuracy: 0.8542 - loss: 0.4512 - val_accuracy: 0.8058 - val_loss: 0.7018 - learning_rate: 1.0000e-06\n",
      "Epoch 46/100\n",
      "\u001b[1m168/168\u001b[0m \u001b[32m━━━━━━━━━━━━━━━━━━━━\u001b[0m\u001b[37m\u001b[0m \u001b[1m178s\u001b[0m 1s/step - accuracy: 0.8531 - loss: 0.4596 - val_accuracy: 0.8037 - val_loss: 0.7009 - learning_rate: 1.0000e-06\n",
      "Epoch 47/100\n",
      "\u001b[1m168/168\u001b[0m \u001b[32m━━━━━━━━━━━━━━━━━━━━\u001b[0m\u001b[37m\u001b[0m \u001b[1m175s\u001b[0m 997ms/step - accuracy: 0.8588 - loss: 0.4230 - val_accuracy: 0.8026 - val_loss: 0.7111 - learning_rate: 1.0000e-06\n",
      "Epoch 48/100\n",
      "\u001b[1m168/168\u001b[0m \u001b[32m━━━━━━━━━━━━━━━━━━━━\u001b[0m\u001b[37m\u001b[0m \u001b[1m175s\u001b[0m 1s/step - accuracy: 0.8492 - loss: 0.4389 - val_accuracy: 0.8042 - val_loss: 0.7007 - learning_rate: 1.0000e-06\n"
     ]
    }
   ],
   "source": [
    "# 🔹 5. Train Model with More Epochs\n",
    "history = model.fit(train_generator, epochs=100, validation_data=test_generator, callbacks=callbacks)\n"
   ]
  },
  {
   "cell_type": "code",
   "execution_count": 12,
   "metadata": {
    "execution": {
     "iopub.execute_input": "2025-04-06T12:40:19.489323Z",
     "iopub.status.busy": "2025-04-06T12:40:19.489000Z",
     "iopub.status.idle": "2025-04-06T12:40:24.379223Z",
     "shell.execute_reply": "2025-04-06T12:40:24.378536Z",
     "shell.execute_reply.started": "2025-04-06T12:40:19.489298Z"
    },
    "trusted": true
   },
   "outputs": [
    {
     "name": "stdout",
     "output_type": "stream",
     "text": [
      "\u001b[1m30/30\u001b[0m \u001b[32m━━━━━━━━━━━━━━━━━━━━\u001b[0m\u001b[37m\u001b[0m \u001b[1m5s\u001b[0m 149ms/step - accuracy: 0.8218 - loss: 0.6298\n",
      "🔹 Updated Test Accuracy: 0.8037\n"
     ]
    }
   ],
   "source": [
    "# 🔹 6. Evaluate Model\n",
    "test_loss, test_acc = model.evaluate(test_generator)\n",
    "print(f\"🔹 Updated Test Accuracy: {test_acc:.4f}\")"
   ]
  },
  {
   "cell_type": "code",
   "execution_count": 13,
   "metadata": {
    "execution": {
     "iopub.execute_input": "2025-04-06T12:40:24.380282Z",
     "iopub.status.busy": "2025-04-06T12:40:24.380020Z",
     "iopub.status.idle": "2025-04-06T12:40:46.721403Z",
     "shell.execute_reply": "2025-04-06T12:40:46.720417Z",
     "shell.execute_reply.started": "2025-04-06T12:40:24.380260Z"
    },
    "trusted": true
   },
   "outputs": [
    {
     "name": "stdout",
     "output_type": "stream",
     "text": [
      "\u001b[1m30/30\u001b[0m \u001b[32m━━━━━━━━━━━━━━━━━━━━\u001b[0m\u001b[37m\u001b[0m \u001b[1m21s\u001b[0m 471ms/step\n"
     ]
    },
    {
     "data": {
      "image/png": "[encoded data removed]",
      "text/plain": [
       "<Figure size 1200x800 with 2 Axes>"
      ]
     },
     "metadata": {},
     "output_type": "display_data"
    }
   ],
   "source": [
    "# 🔹 7. Confusion Matrix & Classification Report\n",
    "y_true = test_generator.classes\n",
    "y_pred = np.argmax(model.predict(test_generator), axis=1)\n",
    "\n",
    "# ✅ Confusion Matrix\n",
    "cm = confusion_matrix(y_true, y_pred)\n",
    "plt.figure(figsize=(12, 8))\n",
    "sns.heatmap(cm, annot=True, fmt=\"d\", cmap=\"Blues\",\n",
    "            xticklabels=test_generator.class_indices.keys(),\n",
    "            yticklabels=test_generator.class_indices.keys())\n",
    "plt.xlabel(\"Predicted Label\")\n",
    "plt.ylabel(\"True Label\")\n",
    "plt.title(\"Confusion Matrix Heatmap\")\n",
    "plt.show()"
   ]
  },
  {
   "cell_type": "code",
   "execution_count": 14,
   "metadata": {
    "execution": {
     "iopub.execute_input": "2025-04-06T12:40:46.722757Z",
     "iopub.status.busy": "2025-04-06T12:40:46.722431Z",
     "iopub.status.idle": "2025-04-06T12:40:46.738439Z",
     "shell.execute_reply": "2025-04-06T12:40:46.737566Z",
     "shell.execute_reply.started": "2025-04-06T12:40:46.722715Z"
    },
    "trusted": true
   },
   "outputs": [
    {
     "name": "stdout",
     "output_type": "stream",
     "text": [
      "Classification Report:\n",
      "                     precision    recall  f1-score   support\n",
      "\n",
      "           calling       0.72      0.79      0.75       126\n",
      "          clapping       0.85      0.75      0.79       126\n",
      "           cycling       0.94      0.98      0.96       126\n",
      "           dancing       0.78      0.83      0.80       126\n",
      "          drinking       0.78      0.80      0.79       126\n",
      "            eating       0.90      0.95      0.93       126\n",
      "          fighting       0.82      0.80      0.81       126\n",
      "           hugging       0.76      0.83      0.79       126\n",
      "          laughing       0.82      0.83      0.82       126\n",
      "listening_to_music       0.67      0.76      0.71       126\n",
      "           running       0.88      0.83      0.86       126\n",
      "           sitting       0.75      0.63      0.69       126\n",
      "          sleeping       0.87      0.87      0.87       126\n",
      "           texting       0.84      0.67      0.74       126\n",
      "      using_laptop       0.71      0.73      0.72       126\n",
      "\n",
      "          accuracy                           0.80      1890\n",
      "         macro avg       0.81      0.80      0.80      1890\n",
      "      weighted avg       0.81      0.80      0.80      1890\n",
      "\n"
     ]
    }
   ],
   "source": [
    "# ✅ Classification Report\n",
    "print(\"Classification Report:\\n\", classification_report(y_true, y_pred, target_names=list(test_generator.class_indices.keys())))"
   ]
  },
  {
   "cell_type": "code",
   "execution_count": 17,
   "metadata": {
    "execution": {
     "iopub.execute_input": "2025-04-06T12:42:33.355273Z",
     "iopub.status.busy": "2025-04-06T12:42:33.354952Z",
     "iopub.status.idle": "2025-04-06T12:42:34.467797Z",
     "shell.execute_reply": "2025-04-06T12:42:34.466745Z",
     "shell.execute_reply.started": "2025-04-06T12:42:33.355249Z"
    },
    "trusted": true
   },
   "outputs": [],
   "source": [
    "model.save(\"activity_recogintion_model.h5\")"
   ]
  },
  {
   "cell_type": "code",
   "execution_count": 18,
   "metadata": {
    "execution": {
     "iopub.execute_input": "2025-04-06T12:42:38.401503Z",
     "iopub.status.busy": "2025-04-06T12:42:38.401158Z",
     "iopub.status.idle": "2025-04-06T12:42:38.406799Z",
     "shell.execute_reply": "2025-04-06T12:42:38.405857Z",
     "shell.execute_reply.started": "2025-04-06T12:42:38.401473Z"
    },
    "trusted": true
   },
   "outputs": [],
   "source": [
    "import json\n",
    "\n",
    "# Save class indices\n",
    "with open(\"class_indices.json\", \"w\") as f:\n",
    "    json.dump(train_generator.class_indices, f)\n",
    "\n",
    "import pickle\n",
    "\n",
    "# Save history\n",
    "with open(\"training_history.pkl\", \"wb\") as f:\n",
    "    pickle.dump(history.history, f)"
   ]
  },
  {
   "cell_type": "code",
   "execution_count": null,
   "metadata": {
    "trusted": true
   },
   "outputs": [],
   "source": []
  }
 ],
 "metadata": {
  "kaggle": {
   "accelerator": "gpu",
   "dataSources": [
    {
     "datasetId": 7002270,
     "sourceId": 11213755,
     "sourceType": "datasetVersion"
    }
   ],
   "dockerImageVersionId": 30919,
   "isGpuEnabled": true,
   "isInternetEnabled": true,
   "language": "python",
   "sourceType": "notebook"
  },
  "kernelspec": {
   "display_name": "Python 3",
   "language": "python",
   "name": "python3"
  },
  "language_info": {
   "codemirror_mode": {
    "name": "ipython",
    "version": 3
   },
   "file_extension": ".py",
   "mimetype": "text/x-python",
   "name": "python",
   "nbconvert_exporter": "python",
   "pygments_lexer": "ipython3",
   "version": "3.10.12"
  }
 },
 "nbformat": 4,
 "nbformat_minor": 4
}
